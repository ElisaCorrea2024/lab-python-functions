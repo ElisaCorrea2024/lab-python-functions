{
 "cells": [
  {
   "cell_type": "markdown",
   "id": "25d7736c-ba17-4aff-b6bb-66eba20fbf4e",
   "metadata": {},
   "source": [
    "# Lab | Functions"
   ]
  },
  {
   "cell_type": "code",
   "execution_count": 54,
   "id": "1652f75d-b820-4fe5-8517-c795857990a5",
   "metadata": {},
   "outputs": [],
   "source": [
    "def initialize_inventory(products):\n",
    "    inventory={}\n",
    "    for product in products:\n",
    "        quantity: int(input(f\"ingresa la cantidad disponible para {product}:\"))\n",
    "        inventory[product] = quantity\n",
    "    return inventory\n",
    "        "
   ]
  },
  {
   "cell_type": "code",
   "execution_count": 24,
   "id": "3e6af699-9e96-49dd-9358-88d9473be6fe",
   "metadata": {},
   "outputs": [],
   "source": [
    "def get_customer_orders():\n",
    "    customer_orders = set ()\n",
    "    while true:\n",
    "        product = input(\"Introduce el nombre del producto que deseas pedir: \")\n",
    "        customer_orders.add(product)\n",
    "        another = input(\"¿quieres introducir otro producto? (si/no): \").lower()\n",
    "        if another == \"no\":\n",
    "            break\n",
    "    return customer_orders\n",
    "    "
   ]
  },
  {
   "cell_type": "code",
   "execution_count": 26,
   "id": "44d38b4b-810c-47ba-8041-7c3e94381139",
   "metadata": {},
   "outputs": [],
   "source": [
    "def update_inventory (customer_orders, inventory):\n",
    "    for product in customer_orders:\n",
    "        if product in inventory and inventory[product] > 0:\n",
    "            inventory[product] -= 1\n",
    "        else:\n",
    "            print(f\"El producto '{product}' no está disponible o está agotado.\")\n",
    "        return inventory"
   ]
  },
  {
   "cell_type": "code",
   "execution_count": 30,
   "id": "b3cbf4a9-a746-47c4-ad64-57d764691c21",
   "metadata": {},
   "outputs": [],
   "source": [
    "def calculate_order_statistics (customer_orders, products):\n",
    "    total_product_ordered = len(customer_orders)\n",
    "    total_products_available = len(products)\n",
    "    percentage_ordered = (total_products_ordered / total_products_available) * 100\n",
    "    return total_products_ordered, percentage_ordered\n"
   ]
  },
  {
   "cell_type": "code",
   "execution_count": 38,
   "id": "0a395fe8-7594-47e0-b1ea-552bcc2461dd",
   "metadata": {},
   "outputs": [],
   "source": [
    "def print_order_statistics (order_statistics):\n",
    "    total_products_ordered, percentage_ordered = order_statistics\n",
    "    print(\"Order Statistics:\")\n",
    "    print(f\"Total Products Ordered: {total_products_ordered}\")\n",
    "    print(f\"Percentage of Products Ordered: {percentage_ordered:.2f}%\")"
   ]
  },
  {
   "cell_type": "code",
   "execution_count": 42,
   "id": "d68703a6-41b0-43a5-a82a-34ed20536f0d",
   "metadata": {},
   "outputs": [],
   "source": [
    "def print_updated_inventory (inventory):\n",
    "    print(\"update_inventory:\")\n",
    "    for product, quantity in inventory.items():\n",
    "        print(f\"{product}: {quantity} units remaining\")\n"
   ]
  },
  {
   "cell_type": "code",
   "execution_count": 56,
   "id": "ef76f33f-bc2d-4029-8f62-167961035b0c",
   "metadata": {},
   "outputs": [
    {
     "ename": "UnboundLocalError",
     "evalue": "cannot access local variable 'quantity' where it is not associated with a value",
     "output_type": "error",
     "traceback": [
      "\u001b[0;31m---------------------------------------------------------------------------\u001b[0m",
      "\u001b[0;31mUnboundLocalError\u001b[0m                         Traceback (most recent call last)",
      "Cell \u001b[0;32mIn[56], line 24\u001b[0m\n\u001b[1;32m     22\u001b[0m \u001b[38;5;66;03m# Run the program\u001b[39;00m\n\u001b[1;32m     23\u001b[0m \u001b[38;5;28;01mif\u001b[39;00m \u001b[38;5;18m__name__\u001b[39m \u001b[38;5;241m==\u001b[39m \u001b[38;5;124m\"\u001b[39m\u001b[38;5;124m__main__\u001b[39m\u001b[38;5;124m\"\u001b[39m:\n\u001b[0;32m---> 24\u001b[0m     main()\n",
      "Cell \u001b[0;32mIn[56], line 5\u001b[0m, in \u001b[0;36mmain\u001b[0;34m()\u001b[0m\n\u001b[1;32m      2\u001b[0m products \u001b[38;5;241m=\u001b[39m [\u001b[38;5;124m\"\u001b[39m\u001b[38;5;124mcamiseta\u001b[39m\u001b[38;5;124m\"\u001b[39m, \u001b[38;5;124m\"\u001b[39m\u001b[38;5;124mtaza\u001b[39m\u001b[38;5;124m\"\u001b[39m, \u001b[38;5;124m\"\u001b[39m\u001b[38;5;124mgorra\u001b[39m\u001b[38;5;124m\"\u001b[39m, \u001b[38;5;124m\"\u001b[39m\u001b[38;5;124mlibro\u001b[39m\u001b[38;5;124m\"\u001b[39m, \u001b[38;5;124m\"\u001b[39m\u001b[38;5;124mllavero\u001b[39m\u001b[38;5;124m\"\u001b[39m]\n\u001b[1;32m      4\u001b[0m \u001b[38;5;66;03m# Step 1: Initialize the inventory\u001b[39;00m\n\u001b[0;32m----> 5\u001b[0m inventory \u001b[38;5;241m=\u001b[39m initialize_inventory(products)\n\u001b[1;32m      7\u001b[0m \u001b[38;5;66;03m# Step 2: Get customer orders\u001b[39;00m\n\u001b[1;32m      8\u001b[0m customer_orders \u001b[38;5;241m=\u001b[39m get_customer_orders()\n",
      "Cell \u001b[0;32mIn[54], line 5\u001b[0m, in \u001b[0;36minitialize_inventory\u001b[0;34m(products)\u001b[0m\n\u001b[1;32m      3\u001b[0m \u001b[38;5;28;01mfor\u001b[39;00m product \u001b[38;5;129;01min\u001b[39;00m products:\n\u001b[1;32m      4\u001b[0m     quantity: \u001b[38;5;28mint\u001b[39m(\u001b[38;5;28minput\u001b[39m(\u001b[38;5;124mf\u001b[39m\u001b[38;5;124m\"\u001b[39m\u001b[38;5;124mingresa la cantidad disponible para \u001b[39m\u001b[38;5;132;01m{\u001b[39;00mproduct\u001b[38;5;132;01m}\u001b[39;00m\u001b[38;5;124m:\u001b[39m\u001b[38;5;124m\"\u001b[39m))\n\u001b[0;32m----> 5\u001b[0m     inventory[product] \u001b[38;5;241m=\u001b[39m quantity\n\u001b[1;32m      6\u001b[0m \u001b[38;5;28;01mreturn\u001b[39;00m inventory\n",
      "\u001b[0;31mUnboundLocalError\u001b[0m: cannot access local variable 'quantity' where it is not associated with a value"
     ]
    }
   ],
   "source": [
    "def main():\n",
    "    products = [\"camiseta\", \"taza\", \"gorra\", \"libro\", \"llavero\"]\n",
    "    \n",
    "    # Step 1: Initialize the inventory\n",
    "    inventory = initialize_inventory(products)\n",
    "    \n",
    "    # Step 2: Get customer orders\n",
    "    customer_orders = get_customer_orders()\n",
    "    \n",
    "    # Step 3: Update the inventory based on orders\n",
    "    update_inventory(customer_orders, inventory)\n",
    "    \n",
    "    # Step 4: Calculate order statistics\n",
    "    order_statistics = calculate_order_statistics(customer_orders, products)\n",
    "    \n",
    "    # Step 5: Print order statistics\n",
    "    print_order_statistics(order_statistics)\n",
    "    \n",
    "    # Step 6: Print updated inventory\n",
    "    print_updated_inventory(inventory)\n",
    "\n",
    "# Run the program\n",
    "if __name__ == \"__main__\":\n",
    "    main()"
   ]
  },
  {
   "cell_type": "code",
   "execution_count": null,
   "id": "83c8aebd-1fdb-426d-acc0-2c4e618fa7b4",
   "metadata": {},
   "outputs": [],
   "source": [
    "#ver corrección abajo"
   ]
  },
  {
   "cell_type": "code",
   "execution_count": 52,
   "id": "ed64ef76-ad30-4581-b608-1ff26c7c4382",
   "metadata": {},
   "outputs": [
    {
     "name": "stdin",
     "output_type": "stream",
     "text": [
      "Enter the quantity for camiseta:  5\n",
      "Enter the quantity for taza:  3\n",
      "Enter the quantity for gorra:  2\n",
      "Enter the quantity for libro:  10\n",
      "Enter the quantity for llavero:  50\n",
      "Enter the product you want to order:  libro\n",
      "Do you want to add another product? (yes/no):  yes\n",
      "Enter the product you want to order:  llavero\n",
      "Do you want to add another product? (yes/no):  no\n"
     ]
    },
    {
     "name": "stdout",
     "output_type": "stream",
     "text": [
      "Order Statistics:\n",
      "Total Products Ordered: 2\n",
      "Percentage of Products Ordered: 40.00%\n",
      "Updated Inventory:\n",
      "camiseta: 5 units remaining\n",
      "taza: 3 units remaining\n",
      "gorra: 2 units remaining\n",
      "libro: 9 units remaining\n",
      "llavero: 49 units remaining\n"
     ]
    }
   ],
   "source": [
    "def initialize_inventory(products):\n",
    "    \"\"\"Initialize the inventory dictionary based on user input.\"\"\"\n",
    "    inventory = {}\n",
    "    for product in products:\n",
    "        quantity = int(input(f\"Enter the quantity for {product}: \"))\n",
    "        inventory[product] = quantity\n",
    "    return inventory\n",
    "\n",
    "def get_customer_orders():\n",
    "    \"\"\"Prompt the user to enter product names and return a set of customer orders.\"\"\"\n",
    "    customer_orders = set()\n",
    "    \n",
    "    while True:\n",
    "        product = input(\"Enter the product you want to order: \")\n",
    "        customer_orders.add(product)\n",
    "\n",
    "        another = input(\"Do you want to add another product? (yes/no): \")\n",
    "        if another.lower() != 'yes':\n",
    "            break\n",
    "            \n",
    "    return customer_orders\n",
    "\n",
    "def update_inventory(customer_orders, inventory):\n",
    "    \"\"\"Update the inventory dictionary based on customer orders.\"\"\"\n",
    "    for product in customer_orders:\n",
    "        if product in inventory and inventory[product] > 0:\n",
    "            inventory[product] -= 1\n",
    "        else:\n",
    "            print(f\"{product} is not available or out of stock.\")\n",
    "\n",
    "def calculate_order_statistics(customer_orders, products):\n",
    "    \"\"\"Calculate order statistics: total products ordered and percentage of unique products ordered.\"\"\"\n",
    "    total_products_ordered = len(customer_orders)\n",
    "    percentage_ordered = (total_products_ordered / len(products)) * 100 if products else 0\n",
    "    return total_products_ordered, percentage_ordered\n",
    "\n",
    "def print_order_statistics(order_statistics):\n",
    "    \"\"\"Print the order statistics.\"\"\"\n",
    "    total_products_ordered, percentage_ordered = order_statistics\n",
    "    print(\"Order Statistics:\")\n",
    "    print(f\"Total Products Ordered: {total_products_ordered}\")\n",
    "    print(f\"Percentage of Products Ordered: {percentage_ordered:.2f}%\")\n",
    "\n",
    "def print_updated_inventory(inventory):\n",
    "    \"\"\"Print the updated inventory.\"\"\"\n",
    "    print(\"Updated Inventory:\")\n",
    "    for product, quantity in inventory.items():\n",
    "        print(f\"{product}: {quantity} units remaining\")\n",
    "\n",
    "# Main execution sequence\n",
    "def main():\n",
    "    products = [\"camiseta\", \"taza\", \"gorra\", \"libro\", \"llavero\"]\n",
    "    \n",
    "    # Step 1: Initialize the inventory\n",
    "    inventory = initialize_inventory(products)\n",
    "    \n",
    "    # Step 2: Get customer orders\n",
    "    customer_orders = get_customer_orders()\n",
    "    \n",
    "    # Step 3: Update the inventory based on orders\n",
    "    update_inventory(customer_orders, inventory)\n",
    "    \n",
    "    # Step 4: Calculate order statistics\n",
    "    order_statistics = calculate_order_statistics(customer_orders, products)\n",
    "    \n",
    "    # Step 5: Print order statistics\n",
    "    print_order_statistics(order_statistics)\n",
    "    \n",
    "    # Step 6: Print updated inventory\n",
    "    print_updated_inventory(inventory)\n",
    "\n",
    "# Run the program\n",
    "if __name__ == \"__main__\":\n",
    "    main()\n"
   ]
  },
  {
   "cell_type": "markdown",
   "id": "0c581062-8967-4d93-b06e-62833222f930",
   "metadata": {
    "tags": []
   },
   "source": [
    "## Exercise: Managing Customer Orders with Functions\n",
    "\n",
    "In the previous exercise, you improved the code for managing customer orders by using loops and flow control. Now, let's take it a step further and refactor the code by introducing functions.\n",
    "\n",
    "Follow the steps below to complete the exercise:\n",
    "\n",
    "1. Define a function named `initialize_inventory` that takes `products` as a parameter. Inside the function, implement the code for initializing the inventory dictionary using a loop and user input.\n",
    "\n",
    "2. Define a function named `get_customer_orders` that takes no parameters. Inside the function, implement the code for prompting the user to enter the product names using a loop. The function should return the `customer_orders` set.\n",
    "\n",
    "3. Define a function named `update_inventory` that takes `customer_orders` and `inventory` as parameters. Inside the function, implement the code for updating the inventory dictionary based on the customer orders.\n",
    "\n",
    "4. Define a function named `calculate_order_statistics` that takes `customer_orders` and `products` as parameters. Inside the function, implement the code for calculating the order statistics (total products ordered, and percentage of unique products ordered). The function should return these values.\n",
    "\n",
    "5. Define a function named `print_order_statistics` that takes `order_statistics` as a parameter. Inside the function, implement the code for printing the order statistics.\n",
    "\n",
    "6. Define a function named `print_updated_inventory` that takes `inventory` as a parameter. Inside the function, implement the code for printing the updated inventory.\n",
    "\n",
    "7. Call the functions in the appropriate sequence to execute the program and manage customer orders.\n",
    "\n",
    "Hints for functions:\n",
    "\n",
    "- Consider the input parameters required for each function and their return values.\n",
    "- Utilize function parameters and return values to transfer data between functions.\n",
    "- Test your functions individually to ensure they work correctly.\n",
    "\n",
    "\n"
   ]
  }
 ],
 "metadata": {
  "kernelspec": {
   "display_name": "Python 3 (ipykernel)",
   "language": "python",
   "name": "python3"
  },
  "language_info": {
   "codemirror_mode": {
    "name": "ipython",
    "version": 3
   },
   "file_extension": ".py",
   "mimetype": "text/x-python",
   "name": "python",
   "nbconvert_exporter": "python",
   "pygments_lexer": "ipython3",
   "version": "3.12.4"
  }
 },
 "nbformat": 4,
 "nbformat_minor": 5
}
